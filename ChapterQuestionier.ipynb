{
  "nbformat": 4,
  "nbformat_minor": 0,
  "metadata": {
    "colab": {
      "name": "ChapterQuestionier.ipynb",
      "provenance": [],
      "authorship_tag": "ABX9TyP7Hn+OG0deuJl2lBPOEP0u"
    },
    "kernelspec": {
      "name": "python3",
      "display_name": "Python 3"
    },
    "language_info": {
      "name": "python"
    }
  },
  "cells": [
    {
      "cell_type": "code",
      "metadata": {
        "id": "K-stfShrfruo"
      },
      "source": [
        "Fast Notes."
      ],
      "execution_count": null,
      "outputs": []
    },
    {
      "cell_type": "markdown",
      "metadata": {
        "id": "siPhC7oU0LHe"
      },
      "source": [
        "It can be hard to know in pages and pages of prose what the key things are that you really need to focus on and remember. So, we've prepared a list of questions and suggested steps to complete at the end of each chapter. All the answers are in the text of the chapter, so if you're not sure about anything here, reread that part of the text and make sure you understand it. Answers to all these questions are also available on the book's website. You can also visit the forums if you get stuck to get help from other folks studying this material.\n",
        "\n",
        "For more questions, including detailed answers and links to the video timeline, have a look at Radek Osmulski's aiquizzes.\n",
        "\n",
        "Do you need these for deep learning?\n",
        "\n",
        "Lots of math False\n",
        "Lots of data True\n",
        "Lots of expensive computers False\n",
        "A PhD False\n",
        "Name five areas where deep learning is now the best in the world.\n",
        "\n",
        "Image detection\n",
        "Medical imaging\n",
        "Games\n",
        "What was the name of the first device that was based on the principle of the artificial neuron?\n",
        "\n",
        "Based on the book of the same name, what are the requirements for parallel distributed processing (PDP)?\n",
        "\n",
        "What were the two theoretical misunderstandings that held back the field of neural networks?\n",
        "\n",
        "What is a GPU?\n",
        "\n",
        "Open a notebook and execute a cell containing: 1+1. What happens?\n",
        "\n",
        "Follow through each cell of the stripped version of the notebook for this chapter. Before executing each cell, guess what will happen.\n",
        "\n",
        "Complete the Jupyter Notebook online appendix.\n",
        "\n",
        "Why is it hard to use a traditional computer program to recognize images in a photo?\n",
        "\n",
        "What did Samuel mean by \"weight assignment\"?\n",
        "\n",
        "What term do we normally use in deep learning for what Samuel called \"weights\"?\n",
        "\n",
        "Draw a picture that summarizes Samuel's view of a machine learning model.\n",
        "\n",
        "Why is it hard to understand why a deep learning model makes a particular prediction?\n",
        "\n",
        "What is the name of the theorem that shows that a neural network can solve any mathematical problem to any level of accuracy?\n",
        "\n",
        "What do you need in order to train a model?\n",
        "\n",
        "How could a feedback loop impact the rollout of a predictive policing model?\n",
        "\n",
        "Do we always have to use 224×224-pixel images with the cat recognition model?\n",
        "\n",
        "What is the difference between classification and regression?\n",
        "\n",
        "What is a validation set? What is a test set? Why do we need them?\n",
        "\n",
        "What will fastai do if you don't provide a validation set?\n",
        "\n",
        "Can we always use a random sample for a validation set? Why or why not?\n",
        "\n",
        "What is overfitting? Provide an example.\n",
        "\n",
        "What is a metric? How does it differ from \"loss\"?\n",
        "\n",
        "How can pretrained models help?\n",
        "\n",
        "What is the \"head\" of a model?\n",
        "\n",
        "What kinds of features do the early layers of a CNN find? How about the later layers?\n",
        "\n",
        "Are image models only useful for photos?\n",
        "\n",
        "What is an \"architecture\"?\n",
        "\n",
        "What is segmentation?\n",
        "\n",
        "What is y_range used for? When do we need it?\n",
        "\n",
        "What are \"hyperparameters\"?\n",
        "\n",
        "What's the best way to avoid failures when using AI in an organization?\n",
        "\n",
        "\n",
        "\n"
      ]
    }
  ]
}